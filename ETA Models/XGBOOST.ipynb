{
 "cells": [
  {
   "cell_type": "markdown",
   "source": [
    "# Importing Libraries"
   ],
   "metadata": {
    "collapsed": false,
    "pycharm": {
     "name": "#%% md\n"
    }
   }
  },
  {
   "cell_type": "code",
   "execution_count": 79,
   "outputs": [],
   "source": [
    "import xgboost as xgb\n",
    "import pandas as pd\n",
    "from sklearn.metrics import mean_squared_error\n",
    "from sklearn.model_selection import train_test_split\n",
    "import os"
   ],
   "metadata": {
    "collapsed": false,
    "pycharm": {
     "name": "#%%\n"
    }
   }
  },
  {
   "cell_type": "markdown",
   "source": [
    "# Load Files"
   ],
   "metadata": {
    "collapsed": false,
    "pycharm": {
     "name": "#%% md\n"
    }
   }
  },
  {
   "cell_type": "code",
   "execution_count": 80,
   "outputs": [
    {
     "data": {
      "text/plain": "                                   cab_file  start_latitude  start_longitude  \\\n0                                                                              \n0  edf177ee-7e81-4785-821e-ac3d13094ec9.txt        37.61564       -122.39190   \n1  edf177ee-7e81-4785-821e-ac3d13094ec9.txt        37.62060       -122.39936   \n2  edf177ee-7e81-4785-821e-ac3d13094ec9.txt        37.76160       -122.43947   \n3  edf177ee-7e81-4785-821e-ac3d13094ec9.txt        37.76731       -122.43667   \n4  edf177ee-7e81-4785-821e-ac3d13094ec9.txt        37.78554       -122.40636   \n\n     source_timestamp  end_latitude  end_longitude  \n0                                                   \n0 2008-06-09 16:57:34      37.78373     -122.40747  \n1 2008-06-09 16:19:15      37.74579     -122.41056  \n2 2008-06-09 14:55:29      37.61486     -122.38584  \n3 2008-06-09 14:00:35      37.61791     -122.38583  \n4 2008-06-09 13:06:06      37.61786     -122.38543  ",
      "text/html": "<div>\n<style scoped>\n    .dataframe tbody tr th:only-of-type {\n        vertical-align: middle;\n    }\n\n    .dataframe tbody tr th {\n        vertical-align: top;\n    }\n\n    .dataframe thead th {\n        text-align: right;\n    }\n</style>\n<table border=\"1\" class=\"dataframe\">\n  <thead>\n    <tr style=\"text-align: right;\">\n      <th></th>\n      <th>cab_file</th>\n      <th>start_latitude</th>\n      <th>start_longitude</th>\n      <th>source_timestamp</th>\n      <th>end_latitude</th>\n      <th>end_longitude</th>\n    </tr>\n    <tr>\n      <th>0</th>\n      <th></th>\n      <th></th>\n      <th></th>\n      <th></th>\n      <th></th>\n      <th></th>\n    </tr>\n  </thead>\n  <tbody>\n    <tr>\n      <th>0</th>\n      <td>edf177ee-7e81-4785-821e-ac3d13094ec9.txt</td>\n      <td>37.61564</td>\n      <td>-122.39190</td>\n      <td>2008-06-09 16:57:34</td>\n      <td>37.78373</td>\n      <td>-122.40747</td>\n    </tr>\n    <tr>\n      <th>1</th>\n      <td>edf177ee-7e81-4785-821e-ac3d13094ec9.txt</td>\n      <td>37.62060</td>\n      <td>-122.39936</td>\n      <td>2008-06-09 16:19:15</td>\n      <td>37.74579</td>\n      <td>-122.41056</td>\n    </tr>\n    <tr>\n      <th>2</th>\n      <td>edf177ee-7e81-4785-821e-ac3d13094ec9.txt</td>\n      <td>37.76160</td>\n      <td>-122.43947</td>\n      <td>2008-06-09 14:55:29</td>\n      <td>37.61486</td>\n      <td>-122.38584</td>\n    </tr>\n    <tr>\n      <th>3</th>\n      <td>edf177ee-7e81-4785-821e-ac3d13094ec9.txt</td>\n      <td>37.76731</td>\n      <td>-122.43667</td>\n      <td>2008-06-09 14:00:35</td>\n      <td>37.61791</td>\n      <td>-122.38583</td>\n    </tr>\n    <tr>\n      <th>4</th>\n      <td>edf177ee-7e81-4785-821e-ac3d13094ec9.txt</td>\n      <td>37.78554</td>\n      <td>-122.40636</td>\n      <td>2008-06-09 13:06:06</td>\n      <td>37.61786</td>\n      <td>-122.38543</td>\n    </tr>\n  </tbody>\n</table>\n</div>"
     },
     "execution_count": 80,
     "metadata": {},
     "output_type": "execute_result"
    }
   ],
   "source": [
    "test = pd.read_csv('../stage3/test_student.txt', sep=' ', header=None, index_col=0)\n",
    "test.columns = ['cab_file', 'start_latitude', 'start_longitude', 'source_timestamp','end_latitude', 'end_longitude']\n",
    "test['source_timestamp'] = pd.to_datetime(test['source_timestamp'], unit='s')\n",
    "test.head()"
   ],
   "metadata": {
    "collapsed": false,
    "pycharm": {
     "name": "#%%\n"
    }
   }
  },
  {
   "cell_type": "code",
   "execution_count": 81,
   "outputs": [
    {
     "data": {
      "text/plain": "   trip_id  start_latitude  start_longitude     source_timestamp  \\\n0        1        37.96943       -122.31778  2008-05-17 15:20:33   \n1        2        37.79505       -122.40479  2008-05-17 15:41:28   \n2        3        37.78363       -122.40261  2008-05-17 15:46:49   \n3        4        37.79593       -122.40495  2008-05-17 15:52:36   \n4        5        37.80648       -122.42048  2008-05-17 15:59:39   \n\n             origin_point  end_latitude  end_longitude destination_timestamp  \\\n0  (37.96943, -122.31778)      37.79119     -122.40449   2008-05-17 15:40:50   \n1  (37.79505, -122.40479)      37.78362     -122.40262   2008-05-17 15:46:48   \n2  (37.78363, -122.40261)      37.79552     -122.40463   2008-05-17 15:51:49   \n3  (37.79593, -122.40495)      37.80647     -122.42048   2008-05-17 15:59:31   \n4  (37.80648, -122.42048)      37.80052     -122.43030   2008-05-17 16:16:11   \n\n        destination_point  cab_id  \n0  (37.79119, -122.40449)       0  \n1  (37.78362, -122.40262)       0  \n2  (37.79552, -122.40463)       0  \n3  (37.80647, -122.42048)       0  \n4   (37.80052, -122.4303)       0  ",
      "text/html": "<div>\n<style scoped>\n    .dataframe tbody tr th:only-of-type {\n        vertical-align: middle;\n    }\n\n    .dataframe tbody tr th {\n        vertical-align: top;\n    }\n\n    .dataframe thead th {\n        text-align: right;\n    }\n</style>\n<table border=\"1\" class=\"dataframe\">\n  <thead>\n    <tr style=\"text-align: right;\">\n      <th></th>\n      <th>trip_id</th>\n      <th>start_latitude</th>\n      <th>start_longitude</th>\n      <th>source_timestamp</th>\n      <th>origin_point</th>\n      <th>end_latitude</th>\n      <th>end_longitude</th>\n      <th>destination_timestamp</th>\n      <th>destination_point</th>\n      <th>cab_id</th>\n    </tr>\n  </thead>\n  <tbody>\n    <tr>\n      <th>0</th>\n      <td>1</td>\n      <td>37.96943</td>\n      <td>-122.31778</td>\n      <td>2008-05-17 15:20:33</td>\n      <td>(37.96943, -122.31778)</td>\n      <td>37.79119</td>\n      <td>-122.40449</td>\n      <td>2008-05-17 15:40:50</td>\n      <td>(37.79119, -122.40449)</td>\n      <td>0</td>\n    </tr>\n    <tr>\n      <th>1</th>\n      <td>2</td>\n      <td>37.79505</td>\n      <td>-122.40479</td>\n      <td>2008-05-17 15:41:28</td>\n      <td>(37.79505, -122.40479)</td>\n      <td>37.78362</td>\n      <td>-122.40262</td>\n      <td>2008-05-17 15:46:48</td>\n      <td>(37.78362, -122.40262)</td>\n      <td>0</td>\n    </tr>\n    <tr>\n      <th>2</th>\n      <td>3</td>\n      <td>37.78363</td>\n      <td>-122.40261</td>\n      <td>2008-05-17 15:46:49</td>\n      <td>(37.78363, -122.40261)</td>\n      <td>37.79552</td>\n      <td>-122.40463</td>\n      <td>2008-05-17 15:51:49</td>\n      <td>(37.79552, -122.40463)</td>\n      <td>0</td>\n    </tr>\n    <tr>\n      <th>3</th>\n      <td>4</td>\n      <td>37.79593</td>\n      <td>-122.40495</td>\n      <td>2008-05-17 15:52:36</td>\n      <td>(37.79593, -122.40495)</td>\n      <td>37.80647</td>\n      <td>-122.42048</td>\n      <td>2008-05-17 15:59:31</td>\n      <td>(37.80647, -122.42048)</td>\n      <td>0</td>\n    </tr>\n    <tr>\n      <th>4</th>\n      <td>5</td>\n      <td>37.80648</td>\n      <td>-122.42048</td>\n      <td>2008-05-17 15:59:39</td>\n      <td>(37.80648, -122.42048)</td>\n      <td>37.80052</td>\n      <td>-122.43030</td>\n      <td>2008-05-17 16:16:11</td>\n      <td>(37.80052, -122.4303)</td>\n      <td>0</td>\n    </tr>\n  </tbody>\n</table>\n</div>"
     },
     "execution_count": 81,
     "metadata": {},
     "output_type": "execute_result"
    }
   ],
   "source": [
    "train = pd.read_csv('../stage3/outputs/All_Taxi_Trips.csv')\n",
    "train.head()"
   ],
   "metadata": {
    "collapsed": false,
    "pycharm": {
     "name": "#%%\n"
    }
   }
  },
  {
   "cell_type": "markdown",
   "source": [
    "# Preprocess Data"
   ],
   "metadata": {
    "collapsed": false,
    "pycharm": {
     "name": "#%% md\n"
    }
   }
  },
  {
   "cell_type": "code",
   "execution_count": 82,
   "outputs": [
    {
     "name": "stderr",
     "output_type": "stream",
     "text": [
      "/tmp/ipykernel_53500/2834849656.py:15: FutureWarning: Series.dt.weekofyear and Series.dt.week have been deprecated. Please use Series.dt.isocalendar().week instead.\n",
      "  X['week_of_year'] = X['source_timestamp'].dt.weekofyear\n"
     ]
    }
   ],
   "source": [
    "# make trip length variable\n",
    "train['destination_timestamp'] = pd.to_datetime(train['destination_timestamp'])\n",
    "train['source_timestamp'] = pd.to_datetime(train['source_timestamp'])\n",
    "train['trip_length'] = train['destination_timestamp'] - train['source_timestamp']\n",
    "y = pd.to_timedelta(train['trip_length'], unit='s').dt.total_seconds()\n",
    "\n",
    "# drop unnecessary columns\n",
    "X = train[['start_latitude', 'start_longitude', 'end_latitude', 'end_longitude', 'cab_id', 'source_timestamp']].copy()\n",
    "\n",
    "# generate time series parameters\n",
    "X['hour'] = X['source_timestamp'].dt.hour\n",
    "X['minute'] = X['source_timestamp'].dt.minute\n",
    "X['second'] = X['source_timestamp'].dt.second\n",
    "X['weekday'] = X['source_timestamp'].dt.weekday\n",
    "X['week_of_year'] = X['source_timestamp'].dt.weekofyear\n",
    "X['day_of_year'] = X['source_timestamp'].dt.dayofyear\n",
    "X['month'] = X['source_timestamp'].dt.month\n",
    "X['year'] = X['source_timestamp'].dt.year\n",
    "\n",
    "# drop timestamp\n",
    "X.drop('source_timestamp', axis=1, inplace=True)\n"
   ],
   "metadata": {
    "collapsed": false,
    "pycharm": {
     "name": "#%%\n"
    }
   }
  },
  {
   "cell_type": "code",
   "execution_count": 83,
   "outputs": [
    {
     "data": {
      "text/plain": "   start_latitude  start_longitude  end_latitude  end_longitude  cab_id  hour  \\\n0        37.96943       -122.31778      37.79119     -122.40449       0    15   \n1        37.79505       -122.40479      37.78362     -122.40262       0    15   \n2        37.78363       -122.40261      37.79552     -122.40463       0    15   \n3        37.79593       -122.40495      37.80647     -122.42048       0    15   \n4        37.80648       -122.42048      37.80052     -122.43030       0    15   \n\n   minute  second  weekday  week_of_year  day_of_year  month  year  \n0      20      33        5            20          138      5  2008  \n1      41      28        5            20          138      5  2008  \n2      46      49        5            20          138      5  2008  \n3      52      36        5            20          138      5  2008  \n4      59      39        5            20          138      5  2008  ",
      "text/html": "<div>\n<style scoped>\n    .dataframe tbody tr th:only-of-type {\n        vertical-align: middle;\n    }\n\n    .dataframe tbody tr th {\n        vertical-align: top;\n    }\n\n    .dataframe thead th {\n        text-align: right;\n    }\n</style>\n<table border=\"1\" class=\"dataframe\">\n  <thead>\n    <tr style=\"text-align: right;\">\n      <th></th>\n      <th>start_latitude</th>\n      <th>start_longitude</th>\n      <th>end_latitude</th>\n      <th>end_longitude</th>\n      <th>cab_id</th>\n      <th>hour</th>\n      <th>minute</th>\n      <th>second</th>\n      <th>weekday</th>\n      <th>week_of_year</th>\n      <th>day_of_year</th>\n      <th>month</th>\n      <th>year</th>\n    </tr>\n  </thead>\n  <tbody>\n    <tr>\n      <th>0</th>\n      <td>37.96943</td>\n      <td>-122.31778</td>\n      <td>37.79119</td>\n      <td>-122.40449</td>\n      <td>0</td>\n      <td>15</td>\n      <td>20</td>\n      <td>33</td>\n      <td>5</td>\n      <td>20</td>\n      <td>138</td>\n      <td>5</td>\n      <td>2008</td>\n    </tr>\n    <tr>\n      <th>1</th>\n      <td>37.79505</td>\n      <td>-122.40479</td>\n      <td>37.78362</td>\n      <td>-122.40262</td>\n      <td>0</td>\n      <td>15</td>\n      <td>41</td>\n      <td>28</td>\n      <td>5</td>\n      <td>20</td>\n      <td>138</td>\n      <td>5</td>\n      <td>2008</td>\n    </tr>\n    <tr>\n      <th>2</th>\n      <td>37.78363</td>\n      <td>-122.40261</td>\n      <td>37.79552</td>\n      <td>-122.40463</td>\n      <td>0</td>\n      <td>15</td>\n      <td>46</td>\n      <td>49</td>\n      <td>5</td>\n      <td>20</td>\n      <td>138</td>\n      <td>5</td>\n      <td>2008</td>\n    </tr>\n    <tr>\n      <th>3</th>\n      <td>37.79593</td>\n      <td>-122.40495</td>\n      <td>37.80647</td>\n      <td>-122.42048</td>\n      <td>0</td>\n      <td>15</td>\n      <td>52</td>\n      <td>36</td>\n      <td>5</td>\n      <td>20</td>\n      <td>138</td>\n      <td>5</td>\n      <td>2008</td>\n    </tr>\n    <tr>\n      <th>4</th>\n      <td>37.80648</td>\n      <td>-122.42048</td>\n      <td>37.80052</td>\n      <td>-122.43030</td>\n      <td>0</td>\n      <td>15</td>\n      <td>59</td>\n      <td>39</td>\n      <td>5</td>\n      <td>20</td>\n      <td>138</td>\n      <td>5</td>\n      <td>2008</td>\n    </tr>\n  </tbody>\n</table>\n</div>"
     },
     "execution_count": 83,
     "metadata": {},
     "output_type": "execute_result"
    }
   ],
   "source": [
    "X.head()"
   ],
   "metadata": {
    "collapsed": false,
    "pycharm": {
     "name": "#%%\n"
    }
   }
  },
  {
   "cell_type": "code",
   "execution_count": 84,
   "outputs": [
    {
     "data": {
      "text/plain": "0    1217.0\n1     320.0\n2     300.0\n3     415.0\n4     992.0\nName: trip_length, dtype: float64"
     },
     "execution_count": 84,
     "metadata": {},
     "output_type": "execute_result"
    }
   ],
   "source": [
    "y.head()"
   ],
   "metadata": {
    "collapsed": false,
    "pycharm": {
     "name": "#%%\n"
    }
   }
  },
  {
   "cell_type": "markdown",
   "source": [
    "# Make Training and Test Sets"
   ],
   "metadata": {
    "collapsed": false,
    "pycharm": {
     "name": "#%% md\n"
    }
   }
  },
  {
   "cell_type": "code",
   "execution_count": 85,
   "outputs": [],
   "source": [
    "X_train, X_train_test, y_train, y_train_test = train_test_split(X, y, test_size=0.2, random_state=123)"
   ],
   "metadata": {
    "collapsed": false,
    "pycharm": {
     "name": "#%%\n"
    }
   }
  },
  {
   "cell_type": "markdown",
   "source": [
    "# Simple Model"
   ],
   "metadata": {
    "collapsed": false,
    "pycharm": {
     "name": "#%% md\n"
    }
   }
  },
  {
   "cell_type": "markdown",
   "source": [
    "## Train Model"
   ],
   "metadata": {
    "collapsed": false,
    "pycharm": {
     "name": "#%% md\n"
    }
   }
  },
  {
   "cell_type": "code",
   "execution_count": 86,
   "outputs": [],
   "source": [
    "xg_reg = xgb.XGBRegressor(objective ='reg:squarederror', colsample_bytree = 0.3, learning_rate = 0.1,\n",
    "                max_depth = 5, alpha = 10, n_estimators = 100)"
   ],
   "metadata": {
    "collapsed": false,
    "pycharm": {
     "name": "#%%\n"
    }
   }
  },
  {
   "cell_type": "code",
   "execution_count": 87,
   "outputs": [
    {
     "data": {
      "text/plain": "XGBRegressor(alpha=10, base_score=None, booster=None, callbacks=None,\n             colsample_bylevel=None, colsample_bynode=None,\n             colsample_bytree=0.3, early_stopping_rounds=None,\n             enable_categorical=False, eval_metric=None, feature_types=None,\n             gamma=None, gpu_id=None, grow_policy=None, importance_type=None,\n             interaction_constraints=None, learning_rate=0.1, max_bin=None,\n             max_cat_threshold=None, max_cat_to_onehot=None,\n             max_delta_step=None, max_depth=5, max_leaves=None,\n             min_child_weight=None, missing=nan, monotone_constraints=None,\n             n_estimators=100, n_jobs=None, num_parallel_tree=None,\n             predictor=None, ...)",
      "text/html": "<style>#sk-container-id-3 {color: black;background-color: white;}#sk-container-id-3 pre{padding: 0;}#sk-container-id-3 div.sk-toggleable {background-color: white;}#sk-container-id-3 label.sk-toggleable__label {cursor: pointer;display: block;width: 100%;margin-bottom: 0;padding: 0.3em;box-sizing: border-box;text-align: center;}#sk-container-id-3 label.sk-toggleable__label-arrow:before {content: \"▸\";float: left;margin-right: 0.25em;color: #696969;}#sk-container-id-3 label.sk-toggleable__label-arrow:hover:before {color: black;}#sk-container-id-3 div.sk-estimator:hover label.sk-toggleable__label-arrow:before {color: black;}#sk-container-id-3 div.sk-toggleable__content {max-height: 0;max-width: 0;overflow: hidden;text-align: left;background-color: #f0f8ff;}#sk-container-id-3 div.sk-toggleable__content pre {margin: 0.2em;color: black;border-radius: 0.25em;background-color: #f0f8ff;}#sk-container-id-3 input.sk-toggleable__control:checked~div.sk-toggleable__content {max-height: 200px;max-width: 100%;overflow: auto;}#sk-container-id-3 input.sk-toggleable__control:checked~label.sk-toggleable__label-arrow:before {content: \"▾\";}#sk-container-id-3 div.sk-estimator input.sk-toggleable__control:checked~label.sk-toggleable__label {background-color: #d4ebff;}#sk-container-id-3 div.sk-label input.sk-toggleable__control:checked~label.sk-toggleable__label {background-color: #d4ebff;}#sk-container-id-3 input.sk-hidden--visually {border: 0;clip: rect(1px 1px 1px 1px);clip: rect(1px, 1px, 1px, 1px);height: 1px;margin: -1px;overflow: hidden;padding: 0;position: absolute;width: 1px;}#sk-container-id-3 div.sk-estimator {font-family: monospace;background-color: #f0f8ff;border: 1px dotted black;border-radius: 0.25em;box-sizing: border-box;margin-bottom: 0.5em;}#sk-container-id-3 div.sk-estimator:hover {background-color: #d4ebff;}#sk-container-id-3 div.sk-parallel-item::after {content: \"\";width: 100%;border-bottom: 1px solid gray;flex-grow: 1;}#sk-container-id-3 div.sk-label:hover label.sk-toggleable__label {background-color: #d4ebff;}#sk-container-id-3 div.sk-serial::before {content: \"\";position: absolute;border-left: 1px solid gray;box-sizing: border-box;top: 0;bottom: 0;left: 50%;z-index: 0;}#sk-container-id-3 div.sk-serial {display: flex;flex-direction: column;align-items: center;background-color: white;padding-right: 0.2em;padding-left: 0.2em;position: relative;}#sk-container-id-3 div.sk-item {position: relative;z-index: 1;}#sk-container-id-3 div.sk-parallel {display: flex;align-items: stretch;justify-content: center;background-color: white;position: relative;}#sk-container-id-3 div.sk-item::before, #sk-container-id-3 div.sk-parallel-item::before {content: \"\";position: absolute;border-left: 1px solid gray;box-sizing: border-box;top: 0;bottom: 0;left: 50%;z-index: -1;}#sk-container-id-3 div.sk-parallel-item {display: flex;flex-direction: column;z-index: 1;position: relative;background-color: white;}#sk-container-id-3 div.sk-parallel-item:first-child::after {align-self: flex-end;width: 50%;}#sk-container-id-3 div.sk-parallel-item:last-child::after {align-self: flex-start;width: 50%;}#sk-container-id-3 div.sk-parallel-item:only-child::after {width: 0;}#sk-container-id-3 div.sk-dashed-wrapped {border: 1px dashed gray;margin: 0 0.4em 0.5em 0.4em;box-sizing: border-box;padding-bottom: 0.4em;background-color: white;}#sk-container-id-3 div.sk-label label {font-family: monospace;font-weight: bold;display: inline-block;line-height: 1.2em;}#sk-container-id-3 div.sk-label-container {text-align: center;}#sk-container-id-3 div.sk-container {/* jupyter's `normalize.less` sets `[hidden] { display: none; }` but bootstrap.min.css set `[hidden] { display: none !important; }` so we also need the `!important` here to be able to override the default hidden behavior on the sphinx rendered scikit-learn.org. See: https://github.com/scikit-learn/scikit-learn/issues/21755 */display: inline-block !important;position: relative;}#sk-container-id-3 div.sk-text-repr-fallback {display: none;}</style><div id=\"sk-container-id-3\" class=\"sk-top-container\"><div class=\"sk-text-repr-fallback\"><pre>XGBRegressor(alpha=10, base_score=None, booster=None, callbacks=None,\n             colsample_bylevel=None, colsample_bynode=None,\n             colsample_bytree=0.3, early_stopping_rounds=None,\n             enable_categorical=False, eval_metric=None, feature_types=None,\n             gamma=None, gpu_id=None, grow_policy=None, importance_type=None,\n             interaction_constraints=None, learning_rate=0.1, max_bin=None,\n             max_cat_threshold=None, max_cat_to_onehot=None,\n             max_delta_step=None, max_depth=5, max_leaves=None,\n             min_child_weight=None, missing=nan, monotone_constraints=None,\n             n_estimators=100, n_jobs=None, num_parallel_tree=None,\n             predictor=None, ...)</pre><b>In a Jupyter environment, please rerun this cell to show the HTML representation or trust the notebook. <br />On GitHub, the HTML representation is unable to render, please try loading this page with nbviewer.org.</b></div><div class=\"sk-container\" hidden><div class=\"sk-item\"><div class=\"sk-estimator sk-toggleable\"><input class=\"sk-toggleable__control sk-hidden--visually\" id=\"sk-estimator-id-3\" type=\"checkbox\" checked><label for=\"sk-estimator-id-3\" class=\"sk-toggleable__label sk-toggleable__label-arrow\">XGBRegressor</label><div class=\"sk-toggleable__content\"><pre>XGBRegressor(alpha=10, base_score=None, booster=None, callbacks=None,\n             colsample_bylevel=None, colsample_bynode=None,\n             colsample_bytree=0.3, early_stopping_rounds=None,\n             enable_categorical=False, eval_metric=None, feature_types=None,\n             gamma=None, gpu_id=None, grow_policy=None, importance_type=None,\n             interaction_constraints=None, learning_rate=0.1, max_bin=None,\n             max_cat_threshold=None, max_cat_to_onehot=None,\n             max_delta_step=None, max_depth=5, max_leaves=None,\n             min_child_weight=None, missing=nan, monotone_constraints=None,\n             n_estimators=100, n_jobs=None, num_parallel_tree=None,\n             predictor=None, ...)</pre></div></div></div></div></div>"
     },
     "execution_count": 87,
     "metadata": {},
     "output_type": "execute_result"
    }
   ],
   "source": [
    "xg_reg.fit(X_train,y_train)"
   ],
   "metadata": {
    "collapsed": false,
    "pycharm": {
     "name": "#%%\n"
    }
   }
  },
  {
   "cell_type": "code",
   "execution_count": 88,
   "outputs": [
    {
     "data": {
      "text/plain": "0.03010611186058243"
     },
     "execution_count": 88,
     "metadata": {},
     "output_type": "execute_result"
    }
   ],
   "source": [
    "xg_reg.score(X_train_test, y_train_test)"
   ],
   "metadata": {
    "collapsed": false,
    "pycharm": {
     "name": "#%%\n"
    }
   }
  },
  {
   "cell_type": "markdown",
   "source": [
    "## Final Predictions of Model"
   ],
   "metadata": {
    "collapsed": false,
    "pycharm": {
     "name": "#%% md\n"
    }
   }
  },
  {
   "cell_type": "code",
   "execution_count": 89,
   "outputs": [
    {
     "name": "stdout",
     "output_type": "stream",
     "text": [
      "{'db8b8e6c-315b-4a8e-bb27-d077647011c5.txt': 0, 'da1c3cf6-e628-4ca0-935c-5f91aa35db4f.txt': 1, 'dd3eb516-dc20-48e1-aec3-ae7d3f1e9b68.txt': 2, 'ead6caf4-8feb-4ade-831d-abd720fac240.txt': 3, 'fc5a051c-c4fb-4c03-b5e3-ea99d8440d20.txt': 4, 'f1a6a66b-287c-46c8-abe3-a5b7c20ff93f.txt': 5, 'db51a9a0-0ae3-4e32-8b37-3ab8b53d6710.txt': 6, 'daea9817-45a7-443d-843d-7ab2cda4531c.txt': 7, 'fb33e23a-48be-4dba-bee5-bcb74cc77436.txt': 8, 'fa24af3a-f415-4dd7-9f8d-7d631b1be9ec.txt': 9, 'ee6de574-7cd6-43dd-83f1-37728b2d9a9c.txt': 10, 'f0086b28-73de-4163-a5e2-8b52dd63446a.txt': 11, 'ecea2a86-3075-4f21-8a4d-be726d38a518.txt': 12, 'dfb2d390-d52e-45f6-a163-2c895fe76d93.txt': 13, 'd7367c6b-7d8c-4b9f-87ca-d88ceca42629.txt': 14, 'd072ac88-ff62-48e8-a825-530c96a0f6ea.txt': 15, 'fba3897b-9201-47f1-a20f-482894296f93.txt': 16, 'f8c6f1a5-031e-4f4c-a0cb-4c7a6624cbca.txt': 17, 'df28992f-86b9-479e-ae50-fa952fb8934a.txt': 18, 'e2f7f587-4ab9-4040-a903-cd268bbb2505.txt': 19, 'fe6f1c48-d0d1-44ed-ab13-4c05e6eb5a48.txt': 20, 'e0fbab22-035e-4179-beb6-c70ec71386c5.txt': 21, 'edb83c12-83fc-4748-baa2-9c41bdfa31c2.txt': 22, 'dfd88174-3adb-4796-931c-d117017cd54c.txt': 23, 'd13188a7-4577-4a5d-82ad-8bb00f6b9422.txt': 24, 'e411b92e-b930-482b-aed5-1f6a6dd89a29.txt': 25, 'e43d7999-48c6-45d1-9412-0ebdd2f02b42.txt': 26, 'f38697d8-a839-4285-b96f-76a565e71bc9.txt': 27, 'fd9ab861-38a0-4cef-ae42-b821d53498e4.txt': 28, 'e5d61933-f61c-47aa-bae6-2cc708def354.txt': 29, 'fea7212d-95f6-44e1-b9af-d66a66c74a58.txt': 30, 'dcf6b415-ef68-4e47-bb2d-619530d28a58.txt': 31, 'ef053659-9a4d-4069-bbbc-61be3e12e8a0.txt': 32, 'f4d86846-7d1f-40df-8c8c-45041a25cc21.txt': 33, 'e7b71bb5-34a9-4ff2-aba1-1d62891dc80b.txt': 34, 'fad80500-cf28-4a05-8e65-8ac4aa89a4aa.txt': 35, 'fc3263d4-5019-4fb1-9581-97c48849f72c.txt': 36, 'f20e88e8-3173-4bef-b05b-338f0098ad04.txt': 37, 'dcbffcb9-e492-4165-b450-dcb9ef242808.txt': 38, 'db1ec952-8b2a-493e-8354-deb684996768.txt': 39, 'e9d2fb45-61b1-477c-97c3-fe939922403e.txt': 40, 'f507b0aa-f8c3-493e-af3e-f0ddf8382f7e.txt': 41, 'dd5d360a-7907-4275-95db-68c20445fe6c.txt': 42, 'ea4f09c2-3f30-488f-bb62-b7ee0f9e791e.txt': 43, 'da8d7e0b-488e-403a-9304-a251006a94c9.txt': 44, 'e9938fd9-84a3-4765-9d68-021c7adeeeda.txt': 45, 'edf177ee-7e81-4785-821e-ac3d13094ec9.txt': 46, 'dc1a4d64-dbce-40d2-aebc-f55600c1029d.txt': 47, 'e1be2cb7-6cf8-4887-8892-c3e6c140d02d.txt': 48, 'faa21af5-fc93-43c0-b371-aa2483dc44c3.txt': 49, 'e98d843a-5b8d-4f1b-8030-9973259e0e87.txt': 50, 'dfcd0b0f-741a-4030-80f6-5f2b83ed7994.txt': 51, 'f998d30e-4952-4e47-af63-9349236bf8a5.txt': 52, 'e7b52ef2-faaf-4ea2-9428-024ebf93c3a9.txt': 53, 'fad7a5b2-25c0-4b2e-8ab2-158d50a6e37d.txt': 54, 'ee1f3987-beee-4903-ba20-e3857ab80081.txt': 55, 'f746c7d0-8cca-4cb7-8166-7d99b0bfd20d.txt': 56, 'e7c89a01-220a-4334-818e-6e355ae36c2b.txt': 57, 'f0fc10fe-c37a-4878-a28f-50123e0fcd2d.txt': 58, 'fdb84684-0901-4eac-938c-5345eeea688a.txt': 59, 'daa7da5f-f05c-45e1-80f6-63f8f3a2922c.txt': 60, 'e33d63fd-2313-4146-ab4b-8aaa4cb10f62.txt': 61, 'd118361e-fba2-4188-8f4c-b43d0e2d3d1e.txt': 62, 'fc0defbc-e893-4465-96e4-158f886ff513.txt': 63, 'e14dc19c-00b0-4784-9d1a-831b63a6b1b7.txt': 64, 'dc4f606c-1769-4b56-b65d-9fbb61435f22.txt': 65, 'f44d9af7-f4db-492f-9506-4f3d5feb82eb.txt': 66, 'f00144bc-e347-497f-9523-55ed8512780a.txt': 67, 'ea502af0-8092-4fb7-a3c2-083f46ab05c9.txt': 68, 'e270309b-0ccc-48a9-a4f5-2c7e54e57f73.txt': 69, 'e512256f-bed0-4b62-a47b-f2abbad01f65.txt': 70, 'ef53cee0-31b0-48b7-b141-927b2cb6e3e0.txt': 71, 'f205bc21-e3db-4772-8cc0-ab5674c6a3be.txt': 72, 'd177ff14-217c-42b9-845e-bf899cb8a778.txt': 73, 'e4385cde-cf2d-4bf4-8bb6-696aa0a7abb1.txt': 74, 'f6e91bd5-7296-4db5-901e-1f822b829d34.txt': 75, 'ea3cd249-bd0a-49b8-ad9e-9f5d0eba26fe.txt': 76}\n"
     ]
    }
   ],
   "source": [
    "import pickle\n",
    "\n",
    "# load taxi dictionary\n",
    "with open('../stage3/outputs/Taxi_Dictionary.pkl', 'rb') as handle:\n",
    "    taxi_dict = pickle.load(handle)\n",
    "\n",
    "taxi_dict = {value: key for key, value in taxi_dict.items()}\n",
    "\n",
    "print(taxi_dict)"
   ],
   "metadata": {
    "collapsed": false,
    "pycharm": {
     "name": "#%%\n"
    }
   }
  },
  {
   "cell_type": "code",
   "execution_count": 92,
   "outputs": [
    {
     "data": {
      "text/plain": "   start_latitude  start_longitude  end_latitude  end_longitude  cab_id  hour  \\\n0                                                                               \n0        37.61564       -122.39190      37.78373     -122.40747      46    16   \n1        37.62060       -122.39936      37.74579     -122.41056      46    16   \n2        37.76160       -122.43947      37.61486     -122.38584      46    14   \n3        37.76731       -122.43667      37.61791     -122.38583      46    14   \n4        37.78554       -122.40636      37.61786     -122.38543      46    13   \n\n   minute  second  weekday  week_of_year  day_of_year  month  year  \n0                                                                   \n0      57      34        0            24          161      6  2008  \n1      19      15        0            24          161      6  2008  \n2      55      29        0            24          161      6  2008  \n3       0      35        0            24          161      6  2008  \n4       6       6        0            24          161      6  2008  ",
      "text/html": "<div>\n<style scoped>\n    .dataframe tbody tr th:only-of-type {\n        vertical-align: middle;\n    }\n\n    .dataframe tbody tr th {\n        vertical-align: top;\n    }\n\n    .dataframe thead th {\n        text-align: right;\n    }\n</style>\n<table border=\"1\" class=\"dataframe\">\n  <thead>\n    <tr style=\"text-align: right;\">\n      <th></th>\n      <th>start_latitude</th>\n      <th>start_longitude</th>\n      <th>end_latitude</th>\n      <th>end_longitude</th>\n      <th>cab_id</th>\n      <th>hour</th>\n      <th>minute</th>\n      <th>second</th>\n      <th>weekday</th>\n      <th>week_of_year</th>\n      <th>day_of_year</th>\n      <th>month</th>\n      <th>year</th>\n    </tr>\n    <tr>\n      <th>0</th>\n      <th></th>\n      <th></th>\n      <th></th>\n      <th></th>\n      <th></th>\n      <th></th>\n      <th></th>\n      <th></th>\n      <th></th>\n      <th></th>\n      <th></th>\n      <th></th>\n      <th></th>\n    </tr>\n  </thead>\n  <tbody>\n    <tr>\n      <th>0</th>\n      <td>37.61564</td>\n      <td>-122.39190</td>\n      <td>37.78373</td>\n      <td>-122.40747</td>\n      <td>46</td>\n      <td>16</td>\n      <td>57</td>\n      <td>34</td>\n      <td>0</td>\n      <td>24</td>\n      <td>161</td>\n      <td>6</td>\n      <td>2008</td>\n    </tr>\n    <tr>\n      <th>1</th>\n      <td>37.62060</td>\n      <td>-122.39936</td>\n      <td>37.74579</td>\n      <td>-122.41056</td>\n      <td>46</td>\n      <td>16</td>\n      <td>19</td>\n      <td>15</td>\n      <td>0</td>\n      <td>24</td>\n      <td>161</td>\n      <td>6</td>\n      <td>2008</td>\n    </tr>\n    <tr>\n      <th>2</th>\n      <td>37.76160</td>\n      <td>-122.43947</td>\n      <td>37.61486</td>\n      <td>-122.38584</td>\n      <td>46</td>\n      <td>14</td>\n      <td>55</td>\n      <td>29</td>\n      <td>0</td>\n      <td>24</td>\n      <td>161</td>\n      <td>6</td>\n      <td>2008</td>\n    </tr>\n    <tr>\n      <th>3</th>\n      <td>37.76731</td>\n      <td>-122.43667</td>\n      <td>37.61791</td>\n      <td>-122.38583</td>\n      <td>46</td>\n      <td>14</td>\n      <td>0</td>\n      <td>35</td>\n      <td>0</td>\n      <td>24</td>\n      <td>161</td>\n      <td>6</td>\n      <td>2008</td>\n    </tr>\n    <tr>\n      <th>4</th>\n      <td>37.78554</td>\n      <td>-122.40636</td>\n      <td>37.61786</td>\n      <td>-122.38543</td>\n      <td>46</td>\n      <td>13</td>\n      <td>6</td>\n      <td>6</td>\n      <td>0</td>\n      <td>24</td>\n      <td>161</td>\n      <td>6</td>\n      <td>2008</td>\n    </tr>\n  </tbody>\n</table>\n</div>"
     },
     "execution_count": 92,
     "metadata": {},
     "output_type": "execute_result"
    }
   ],
   "source": [
    "# load cab file to id dictionary\n",
    "test['cab_id'] = test['cab_file'].map(taxi_dict)\n",
    "\n",
    "# generate time series parameters\n",
    "X_test = test[['start_latitude', 'start_longitude', 'end_latitude', 'end_longitude', 'cab_id', 'source_timestamp']].copy()\n",
    "\n",
    "# generate time series parameters\n",
    "X_test['hour'] = X_test['source_timestamp'].dt.hour\n",
    "X_test['minute'] = X_test['source_timestamp'].dt.minute\n",
    "X_test['second'] = X_test['source_timestamp'].dt.second\n",
    "X_test['weekday'] = X_test['source_timestamp'].dt.weekday\n",
    "X_test['week_of_year'] = X_test['source_timestamp'].dt.isocalendar().week\n",
    "X_test['day_of_year'] = X_test['source_timestamp'].dt.dayofyear\n",
    "X_test['month'] = X_test['source_timestamp'].dt.month\n",
    "X_test['year'] = X_test['source_timestamp'].dt.year\n",
    "\n",
    "# drop timestamp\n",
    "X_test.drop('source_timestamp', axis=1, inplace=True)\n",
    "\n",
    "X_test.head()"
   ],
   "metadata": {
    "collapsed": false,
    "pycharm": {
     "name": "#%%\n"
    }
   }
  },
  {
   "cell_type": "code",
   "execution_count": 93,
   "outputs": [
    {
     "data": {
      "text/plain": "   start_latitude  start_longitude  end_latitude  end_longitude  cab_id  hour  \\\n0                                                                               \n0        37.61564       -122.39190      37.78373     -122.40747      46    16   \n1        37.62060       -122.39936      37.74579     -122.41056      46    16   \n2        37.76160       -122.43947      37.61486     -122.38584      46    14   \n3        37.76731       -122.43667      37.61791     -122.38583      46    14   \n4        37.78554       -122.40636      37.61786     -122.38543      46    13   \n\n   minute  second  weekday  week_of_year  day_of_year  month  year  \n0                                                                   \n0      57      34        0            24          161      6  2008  \n1      19      15        0            24          161      6  2008  \n2      55      29        0            24          161      6  2008  \n3       0      35        0            24          161      6  2008  \n4       6       6        0            24          161      6  2008  ",
      "text/html": "<div>\n<style scoped>\n    .dataframe tbody tr th:only-of-type {\n        vertical-align: middle;\n    }\n\n    .dataframe tbody tr th {\n        vertical-align: top;\n    }\n\n    .dataframe thead th {\n        text-align: right;\n    }\n</style>\n<table border=\"1\" class=\"dataframe\">\n  <thead>\n    <tr style=\"text-align: right;\">\n      <th></th>\n      <th>start_latitude</th>\n      <th>start_longitude</th>\n      <th>end_latitude</th>\n      <th>end_longitude</th>\n      <th>cab_id</th>\n      <th>hour</th>\n      <th>minute</th>\n      <th>second</th>\n      <th>weekday</th>\n      <th>week_of_year</th>\n      <th>day_of_year</th>\n      <th>month</th>\n      <th>year</th>\n    </tr>\n    <tr>\n      <th>0</th>\n      <th></th>\n      <th></th>\n      <th></th>\n      <th></th>\n      <th></th>\n      <th></th>\n      <th></th>\n      <th></th>\n      <th></th>\n      <th></th>\n      <th></th>\n      <th></th>\n      <th></th>\n    </tr>\n  </thead>\n  <tbody>\n    <tr>\n      <th>0</th>\n      <td>37.61564</td>\n      <td>-122.39190</td>\n      <td>37.78373</td>\n      <td>-122.40747</td>\n      <td>46</td>\n      <td>16</td>\n      <td>57</td>\n      <td>34</td>\n      <td>0</td>\n      <td>24</td>\n      <td>161</td>\n      <td>6</td>\n      <td>2008</td>\n    </tr>\n    <tr>\n      <th>1</th>\n      <td>37.62060</td>\n      <td>-122.39936</td>\n      <td>37.74579</td>\n      <td>-122.41056</td>\n      <td>46</td>\n      <td>16</td>\n      <td>19</td>\n      <td>15</td>\n      <td>0</td>\n      <td>24</td>\n      <td>161</td>\n      <td>6</td>\n      <td>2008</td>\n    </tr>\n    <tr>\n      <th>2</th>\n      <td>37.76160</td>\n      <td>-122.43947</td>\n      <td>37.61486</td>\n      <td>-122.38584</td>\n      <td>46</td>\n      <td>14</td>\n      <td>55</td>\n      <td>29</td>\n      <td>0</td>\n      <td>24</td>\n      <td>161</td>\n      <td>6</td>\n      <td>2008</td>\n    </tr>\n    <tr>\n      <th>3</th>\n      <td>37.76731</td>\n      <td>-122.43667</td>\n      <td>37.61791</td>\n      <td>-122.38583</td>\n      <td>46</td>\n      <td>14</td>\n      <td>0</td>\n      <td>35</td>\n      <td>0</td>\n      <td>24</td>\n      <td>161</td>\n      <td>6</td>\n      <td>2008</td>\n    </tr>\n    <tr>\n      <th>4</th>\n      <td>37.78554</td>\n      <td>-122.40636</td>\n      <td>37.61786</td>\n      <td>-122.38543</td>\n      <td>46</td>\n      <td>13</td>\n      <td>6</td>\n      <td>6</td>\n      <td>0</td>\n      <td>24</td>\n      <td>161</td>\n      <td>6</td>\n      <td>2008</td>\n    </tr>\n  </tbody>\n</table>\n</div>"
     },
     "execution_count": 93,
     "metadata": {},
     "output_type": "execute_result"
    }
   ],
   "source": [
    "X_test.head()"
   ],
   "metadata": {
    "collapsed": false,
    "pycharm": {
     "name": "#%%\n"
    }
   }
  },
  {
   "cell_type": "code",
   "execution_count": 94,
   "outputs": [
    {
     "name": "stdout",
     "output_type": "stream",
     "text": [
      "<class 'pandas.core.frame.DataFrame'>\n",
      "Int64Index: 1901 entries, 0 to 1900\n",
      "Data columns (total 13 columns):\n",
      " #   Column           Non-Null Count  Dtype  \n",
      "---  ------           --------------  -----  \n",
      " 0   start_latitude   1901 non-null   float64\n",
      " 1   start_longitude  1901 non-null   float64\n",
      " 2   end_latitude     1901 non-null   float64\n",
      " 3   end_longitude    1901 non-null   float64\n",
      " 4   cab_id           1901 non-null   int64  \n",
      " 5   hour             1901 non-null   int64  \n",
      " 6   minute           1901 non-null   int64  \n",
      " 7   second           1901 non-null   int64  \n",
      " 8   weekday          1901 non-null   int64  \n",
      " 9   week_of_year     1901 non-null   UInt32 \n",
      " 10  day_of_year      1901 non-null   int64  \n",
      " 11  month            1901 non-null   int64  \n",
      " 12  year             1901 non-null   int64  \n",
      "dtypes: UInt32(1), float64(4), int64(8)\n",
      "memory usage: 202.4 KB\n"
     ]
    }
   ],
   "source": [
    "X_test.info()"
   ],
   "metadata": {
    "collapsed": false,
    "pycharm": {
     "name": "#%%\n"
    }
   }
  },
  {
   "cell_type": "code",
   "execution_count": 95,
   "outputs": [],
   "source": [
    "X_test.week_of_year = X_test.week_of_year.astype('int64')"
   ],
   "metadata": {
    "collapsed": false,
    "pycharm": {
     "name": "#%%\n"
    }
   }
  },
  {
   "cell_type": "code",
   "execution_count": 98,
   "outputs": [],
   "source": [
    "y_pred = xg_reg.predict(X_test)"
   ],
   "metadata": {
    "collapsed": false,
    "pycharm": {
     "name": "#%%\n"
    }
   }
  },
  {
   "cell_type": "code",
   "execution_count": 100,
   "outputs": [
    {
     "data": {
      "text/plain": "             0\n0  1506.025024\n1  1727.622314\n2  1747.943848\n3  1510.564575\n4   905.274597",
      "text/html": "<div>\n<style scoped>\n    .dataframe tbody tr th:only-of-type {\n        vertical-align: middle;\n    }\n\n    .dataframe tbody tr th {\n        vertical-align: top;\n    }\n\n    .dataframe thead th {\n        text-align: right;\n    }\n</style>\n<table border=\"1\" class=\"dataframe\">\n  <thead>\n    <tr style=\"text-align: right;\">\n      <th></th>\n      <th>0</th>\n    </tr>\n  </thead>\n  <tbody>\n    <tr>\n      <th>0</th>\n      <td>1506.025024</td>\n    </tr>\n    <tr>\n      <th>1</th>\n      <td>1727.622314</td>\n    </tr>\n    <tr>\n      <th>2</th>\n      <td>1747.943848</td>\n    </tr>\n    <tr>\n      <th>3</th>\n      <td>1510.564575</td>\n    </tr>\n    <tr>\n      <th>4</th>\n      <td>905.274597</td>\n    </tr>\n  </tbody>\n</table>\n</div>"
     },
     "execution_count": 100,
     "metadata": {},
     "output_type": "execute_result"
    }
   ],
   "source": [
    "y_pred = pd.DataFrame(y_pred)\n",
    "y_pred.head()"
   ],
   "metadata": {
    "collapsed": false,
    "pycharm": {
     "name": "#%%\n"
    }
   }
  },
  {
   "cell_type": "code",
   "execution_count": 106,
   "outputs": [
    {
     "data": {
      "text/plain": "                            eta\n0 2008-06-09 17:22:40.025024414\n1 2008-06-09 16:48:02.622314453\n2 2008-06-09 15:24:36.943847656\n3 2008-06-09 14:25:45.564575195\n4 2008-06-09 13:21:11.274597168",
      "text/html": "<div>\n<style scoped>\n    .dataframe tbody tr th:only-of-type {\n        vertical-align: middle;\n    }\n\n    .dataframe tbody tr th {\n        vertical-align: top;\n    }\n\n    .dataframe thead th {\n        text-align: right;\n    }\n</style>\n<table border=\"1\" class=\"dataframe\">\n  <thead>\n    <tr style=\"text-align: right;\">\n      <th></th>\n      <th>eta</th>\n    </tr>\n  </thead>\n  <tbody>\n    <tr>\n      <th>0</th>\n      <td>2008-06-09 17:22:40.025024414</td>\n    </tr>\n    <tr>\n      <th>1</th>\n      <td>2008-06-09 16:48:02.622314453</td>\n    </tr>\n    <tr>\n      <th>2</th>\n      <td>2008-06-09 15:24:36.943847656</td>\n    </tr>\n    <tr>\n      <th>3</th>\n      <td>2008-06-09 14:25:45.564575195</td>\n    </tr>\n    <tr>\n      <th>4</th>\n      <td>2008-06-09 13:21:11.274597168</td>\n    </tr>\n  </tbody>\n</table>\n</div>"
     },
     "execution_count": 106,
     "metadata": {},
     "output_type": "execute_result"
    }
   ],
   "source": [
    "output = pd.concat([test.source_timestamp, y_pred], axis=1)\n",
    "output['eta'] = output['source_timestamp'] + pd.to_timedelta(output[0], unit='s')\n",
    "output.drop([0, 'source_timestamp'], axis=1, inplace=True)\n",
    "output.head()"
   ],
   "metadata": {
    "collapsed": false,
    "pycharm": {
     "name": "#%%\n"
    }
   }
  },
  {
   "cell_type": "code",
   "execution_count": 107,
   "outputs": [],
   "source": [
    "output.to_csv('../stage3/outputs/xgboost_eta.csv', index=False)"
   ],
   "metadata": {
    "collapsed": false,
    "pycharm": {
     "name": "#%%\n"
    }
   }
  },
  {
   "cell_type": "markdown",
   "source": [
    "# Steps to improve\n",
    "- use featurewiz for engineering and selection\n",
    "- try catboost, lightgbm, and a lazy learn model\n",
    "- use optuna on best dt model to tune hyperparameters"
   ],
   "metadata": {
    "collapsed": false,
    "pycharm": {
     "name": "#%% md\n"
    }
   }
  },
  {
   "cell_type": "code",
   "execution_count": null,
   "outputs": [],
   "source": [],
   "metadata": {
    "collapsed": false,
    "pycharm": {
     "name": "#%%\n"
    }
   }
  }
 ],
 "metadata": {
  "kernelspec": {
   "display_name": "Python 3",
   "language": "python",
   "name": "python3"
  },
  "language_info": {
   "codemirror_mode": {
    "name": "ipython",
    "version": 2
   },
   "file_extension": ".py",
   "mimetype": "text/x-python",
   "name": "python",
   "nbconvert_exporter": "python",
   "pygments_lexer": "ipython2",
   "version": "2.7.6"
  }
 },
 "nbformat": 4,
 "nbformat_minor": 0
}