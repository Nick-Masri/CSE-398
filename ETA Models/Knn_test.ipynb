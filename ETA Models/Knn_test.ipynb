{
 "cells": [
  {
   "cell_type": "code",
   "execution_count": 2,
   "outputs": [],
   "source": [
    "from rtree import index\n",
    "import pandas as pd\n",
    "import ast\n",
    "import os"
   ],
   "metadata": {
    "collapsed": false,
    "pycharm": {
     "name": "#%%\n"
    }
   }
  },
  {
   "cell_type": "code",
   "execution_count": 4,
   "outputs": [],
   "source": [
    "# R-Tree index\n",
    "idx = index.Index()"
   ],
   "metadata": {
    "collapsed": false,
    "pycharm": {
     "name": "#%%\n"
    }
   }
  },
  {
   "cell_type": "code",
   "execution_count": 6,
   "outputs": [],
   "source": [
    "class ETA:\n",
    "    def __init__(self, start_time=None, end_time=None):\n",
    "        self.start_time = start_time\n",
    "        self.end_time = end_time"
   ],
   "metadata": {
    "collapsed": false,
    "pycharm": {
     "name": "#%%\n"
    }
   }
  },
  {
   "cell_type": "code",
   "execution_count": 5,
   "outputs": [
    {
     "data": {
      "text/plain": "   trip_id  start_latitude  start_longitude     source_timestamp  \\\n0        1        37.96943       -122.31778  2008-05-17 15:20:33   \n1        2        37.79505       -122.40479  2008-05-17 15:41:28   \n2        3        37.78363       -122.40261  2008-05-17 15:46:49   \n3        4        37.79593       -122.40495  2008-05-17 15:52:36   \n4        5        37.80648       -122.42048  2008-05-17 15:59:39   \n\n             origin_point  end_latitude  end_longitude destination_timestamp  \\\n0  (37.96943, -122.31778)      37.79119     -122.40449   2008-05-17 15:40:50   \n1  (37.79505, -122.40479)      37.78362     -122.40262   2008-05-17 15:46:48   \n2  (37.78363, -122.40261)      37.79552     -122.40463   2008-05-17 15:51:49   \n3  (37.79593, -122.40495)      37.80647     -122.42048   2008-05-17 15:59:31   \n4  (37.80648, -122.42048)      37.80052     -122.43030   2008-05-17 16:16:11   \n\n        destination_point  cab_id  \n0  (37.79119, -122.40449)       0  \n1  (37.78362, -122.40262)       0  \n2  (37.79552, -122.40463)       0  \n3  (37.80647, -122.42048)       0  \n4   (37.80052, -122.4303)       0  ",
      "text/html": "<div>\n<style scoped>\n    .dataframe tbody tr th:only-of-type {\n        vertical-align: middle;\n    }\n\n    .dataframe tbody tr th {\n        vertical-align: top;\n    }\n\n    .dataframe thead th {\n        text-align: right;\n    }\n</style>\n<table border=\"1\" class=\"dataframe\">\n  <thead>\n    <tr style=\"text-align: right;\">\n      <th></th>\n      <th>trip_id</th>\n      <th>start_latitude</th>\n      <th>start_longitude</th>\n      <th>source_timestamp</th>\n      <th>origin_point</th>\n      <th>end_latitude</th>\n      <th>end_longitude</th>\n      <th>destination_timestamp</th>\n      <th>destination_point</th>\n      <th>cab_id</th>\n    </tr>\n  </thead>\n  <tbody>\n    <tr>\n      <th>0</th>\n      <td>1</td>\n      <td>37.96943</td>\n      <td>-122.31778</td>\n      <td>2008-05-17 15:20:33</td>\n      <td>(37.96943, -122.31778)</td>\n      <td>37.79119</td>\n      <td>-122.40449</td>\n      <td>2008-05-17 15:40:50</td>\n      <td>(37.79119, -122.40449)</td>\n      <td>0</td>\n    </tr>\n    <tr>\n      <th>1</th>\n      <td>2</td>\n      <td>37.79505</td>\n      <td>-122.40479</td>\n      <td>2008-05-17 15:41:28</td>\n      <td>(37.79505, -122.40479)</td>\n      <td>37.78362</td>\n      <td>-122.40262</td>\n      <td>2008-05-17 15:46:48</td>\n      <td>(37.78362, -122.40262)</td>\n      <td>0</td>\n    </tr>\n    <tr>\n      <th>2</th>\n      <td>3</td>\n      <td>37.78363</td>\n      <td>-122.40261</td>\n      <td>2008-05-17 15:46:49</td>\n      <td>(37.78363, -122.40261)</td>\n      <td>37.79552</td>\n      <td>-122.40463</td>\n      <td>2008-05-17 15:51:49</td>\n      <td>(37.79552, -122.40463)</td>\n      <td>0</td>\n    </tr>\n    <tr>\n      <th>3</th>\n      <td>4</td>\n      <td>37.79593</td>\n      <td>-122.40495</td>\n      <td>2008-05-17 15:52:36</td>\n      <td>(37.79593, -122.40495)</td>\n      <td>37.80647</td>\n      <td>-122.42048</td>\n      <td>2008-05-17 15:59:31</td>\n      <td>(37.80647, -122.42048)</td>\n      <td>0</td>\n    </tr>\n    <tr>\n      <th>4</th>\n      <td>5</td>\n      <td>37.80648</td>\n      <td>-122.42048</td>\n      <td>2008-05-17 15:59:39</td>\n      <td>(37.80648, -122.42048)</td>\n      <td>37.80052</td>\n      <td>-122.43030</td>\n      <td>2008-05-17 16:16:11</td>\n      <td>(37.80052, -122.4303)</td>\n      <td>0</td>\n    </tr>\n  </tbody>\n</table>\n</div>"
     },
     "execution_count": 5,
     "metadata": {},
     "output_type": "execute_result"
    }
   ],
   "source": [
    "df = pd.read_csv(\"../stage3/outputs/All_Taxi_Trips.csv\")\n",
    "df.head()"
   ],
   "metadata": {
    "collapsed": false,
    "pycharm": {
     "name": "#%%\n"
    }
   }
  },
  {
   "cell_type": "code",
   "execution_count": 7,
   "outputs": [],
   "source": [
    "for i, row in df.iterrows():\n",
    "    sTime = row['source_timestamp']\n",
    "    dTime = row['destination_timestamp']\n",
    "\n",
    "    start_eta = ETA(start_time=sTime)\n",
    "    end_eta = ETA(end_time=dTime)\n",
    "    start_point = row['origin_point']\n",
    "    end_point = row['destination_point']\n",
    "\n",
    "    x1, y1 = ast.literal_eval(start_point)[1], ast.literal_eval(start_point)[0]\n",
    "    x2, y2 = ast.literal_eval(end_point)[1], ast.literal_eval(end_point)[0]\n",
    "\n",
    "    idx.insert(i, (x1, y1), start_eta)\n",
    "    idx.insert(i, (x2, y2), end_eta)\n"
   ],
   "metadata": {
    "collapsed": false,
    "pycharm": {
     "name": "#%%\n"
    }
   }
  },
  {
   "cell_type": "code",
   "execution_count": 8,
   "outputs": [
    {
     "name": "stdout",
     "output_type": "stream",
     "text": [
      "1    edf177ee-7e81-4785-821e-ac3d13094ec9.txt\n",
      "2                                    37.61564\n",
      "3                                   -122.3919\n",
      "4                                  1213030654\n",
      "5                                    37.78373\n",
      "6                                  -122.40747\n",
      "Name: 0, dtype: object\n"
     ]
    }
   ],
   "source": [
    "test_data = pd.read_csv('../stage3/test_student.txt', sep=' ', header=None, index_col=0)\n",
    "\n",
    "test_point = test_data.iloc[0]\n",
    "print(test_point)"
   ],
   "metadata": {
    "collapsed": false,
    "pycharm": {
     "name": "#%%\n"
    }
   }
  },
  {
   "cell_type": "code",
   "execution_count": 14,
   "outputs": [
    {
     "name": "stdout",
     "output_type": "stream",
     "text": [
      "83119\n",
      "121125\n",
      "121126\n",
      "52280\n",
      "52281\n"
     ]
    }
   ],
   "source": [
    "nearest_points = idx.nearest(test_point[[2,3]], 5, objects=True)\n",
    "for point in nearest_points:\n",
    "    print(point.id)"
   ],
   "metadata": {
    "collapsed": false,
    "pycharm": {
     "name": "#%%\n"
    }
   }
  },
  {
   "cell_type": "code",
   "execution_count": 16,
   "outputs": [
    {
     "name": "stdout",
     "output_type": "stream",
     "text": [
      "83119\n",
      "<__main__.ETA object at 0x7f4ddc2d3c70>\n",
      "121125\n",
      "<__main__.ETA object at 0x7f4dd71af430>\n",
      "121126\n",
      "<__main__.ETA object at 0x7f4ddc2d3eb0>\n",
      "52280\n",
      "<__main__.ETA object at 0x7f4dd71ad720>\n",
      "52281\n",
      "<__main__.ETA object at 0x7f4ddc2d1840>\n"
     ]
    }
   ],
   "source": [
    "nearest_points = idx.nearest(test_point[[5, 6]], 5, objects=True)\n",
    "for point in nearest_points:\n",
    "    print(point.id)\n",
    "    obj = point.object\n",
    "    if obj.start"
   ],
   "metadata": {
    "collapsed": false,
    "pycharm": {
     "name": "#%%\n"
    }
   }
  },
  {
   "cell_type": "code",
   "execution_count": null,
   "outputs": [],
   "source": [],
   "metadata": {
    "collapsed": false,
    "pycharm": {
     "name": "#%%\n"
    }
   }
  }
 ],
 "metadata": {
  "kernelspec": {
   "display_name": "Python 3",
   "language": "python",
   "name": "python3"
  },
  "language_info": {
   "codemirror_mode": {
    "name": "ipython",
    "version": 2
   },
   "file_extension": ".py",
   "mimetype": "text/x-python",
   "name": "python",
   "nbconvert_exporter": "python",
   "pygments_lexer": "ipython2",
   "version": "2.7.6"
  }
 },
 "nbformat": 4,
 "nbformat_minor": 0
}