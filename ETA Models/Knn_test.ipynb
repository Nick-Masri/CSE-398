{
 "cells": [
  {
   "cell_type": "markdown",
   "source": [
    "# Setup"
   ],
   "metadata": {
    "collapsed": false,
    "pycharm": {
     "name": "#%% md\n"
    }
   }
  },
  {
   "cell_type": "code",
   "execution_count": 13,
   "outputs": [],
   "source": [
    "from rtree import index\n",
    "import pandas as pd\n",
    "import ast\n",
    "from dataclasses import dataclass"
   ],
   "metadata": {
    "collapsed": false,
    "pycharm": {
     "name": "#%%\n"
    }
   }
  },
  {
   "cell_type": "code",
   "execution_count": 14,
   "outputs": [],
   "source": [
    "@dataclass(frozen=True)\n",
    "class ETA:\n",
    "    gps_point: tuple\n",
    "    start_time: str = None\n",
    "    end_time: str = None"
   ],
   "metadata": {
    "collapsed": false,
    "pycharm": {
     "name": "#%%\n"
    }
   }
  },
  {
   "cell_type": "code",
   "execution_count": 15,
   "outputs": [
    {
     "data": {
      "text/plain": "   trip_id  start_latitude  start_longitude    source_timestamp  \\\n0        1        37.96943       -122.31778 2008-05-17 15:20:33   \n1        2        37.79505       -122.40479 2008-05-17 15:41:28   \n2        3        37.78363       -122.40261 2008-05-17 15:46:49   \n3        4        37.79593       -122.40495 2008-05-17 15:52:36   \n4        5        37.80648       -122.42048 2008-05-17 15:59:39   \n\n             origin_point  end_latitude  end_longitude destination_timestamp  \\\n0  (37.96943, -122.31778)      37.79119     -122.40449   2008-05-17 15:40:50   \n1  (37.79505, -122.40479)      37.78362     -122.40262   2008-05-17 15:46:48   \n2  (37.78363, -122.40261)      37.79552     -122.40463   2008-05-17 15:51:49   \n3  (37.79593, -122.40495)      37.80647     -122.42048   2008-05-17 15:59:31   \n4  (37.80648, -122.42048)      37.80052     -122.43030   2008-05-17 16:16:11   \n\n        destination_point  cab_id  travel_time  \n0  (37.79119, -122.40449)       0         1217  \n1  (37.78362, -122.40262)       0          320  \n2  (37.79552, -122.40463)       0          300  \n3  (37.80647, -122.42048)       0          415  \n4   (37.80052, -122.4303)       0          992  ",
      "text/html": "<div>\n<style scoped>\n    .dataframe tbody tr th:only-of-type {\n        vertical-align: middle;\n    }\n\n    .dataframe tbody tr th {\n        vertical-align: top;\n    }\n\n    .dataframe thead th {\n        text-align: right;\n    }\n</style>\n<table border=\"1\" class=\"dataframe\">\n  <thead>\n    <tr style=\"text-align: right;\">\n      <th></th>\n      <th>trip_id</th>\n      <th>start_latitude</th>\n      <th>start_longitude</th>\n      <th>source_timestamp</th>\n      <th>origin_point</th>\n      <th>end_latitude</th>\n      <th>end_longitude</th>\n      <th>destination_timestamp</th>\n      <th>destination_point</th>\n      <th>cab_id</th>\n      <th>travel_time</th>\n    </tr>\n  </thead>\n  <tbody>\n    <tr>\n      <th>0</th>\n      <td>1</td>\n      <td>37.96943</td>\n      <td>-122.31778</td>\n      <td>2008-05-17 15:20:33</td>\n      <td>(37.96943, -122.31778)</td>\n      <td>37.79119</td>\n      <td>-122.40449</td>\n      <td>2008-05-17 15:40:50</td>\n      <td>(37.79119, -122.40449)</td>\n      <td>0</td>\n      <td>1217</td>\n    </tr>\n    <tr>\n      <th>1</th>\n      <td>2</td>\n      <td>37.79505</td>\n      <td>-122.40479</td>\n      <td>2008-05-17 15:41:28</td>\n      <td>(37.79505, -122.40479)</td>\n      <td>37.78362</td>\n      <td>-122.40262</td>\n      <td>2008-05-17 15:46:48</td>\n      <td>(37.78362, -122.40262)</td>\n      <td>0</td>\n      <td>320</td>\n    </tr>\n    <tr>\n      <th>2</th>\n      <td>3</td>\n      <td>37.78363</td>\n      <td>-122.40261</td>\n      <td>2008-05-17 15:46:49</td>\n      <td>(37.78363, -122.40261)</td>\n      <td>37.79552</td>\n      <td>-122.40463</td>\n      <td>2008-05-17 15:51:49</td>\n      <td>(37.79552, -122.40463)</td>\n      <td>0</td>\n      <td>300</td>\n    </tr>\n    <tr>\n      <th>3</th>\n      <td>4</td>\n      <td>37.79593</td>\n      <td>-122.40495</td>\n      <td>2008-05-17 15:52:36</td>\n      <td>(37.79593, -122.40495)</td>\n      <td>37.80647</td>\n      <td>-122.42048</td>\n      <td>2008-05-17 15:59:31</td>\n      <td>(37.80647, -122.42048)</td>\n      <td>0</td>\n      <td>415</td>\n    </tr>\n    <tr>\n      <th>4</th>\n      <td>5</td>\n      <td>37.80648</td>\n      <td>-122.42048</td>\n      <td>2008-05-17 15:59:39</td>\n      <td>(37.80648, -122.42048)</td>\n      <td>37.80052</td>\n      <td>-122.43030</td>\n      <td>2008-05-17 16:16:11</td>\n      <td>(37.80052, -122.4303)</td>\n      <td>0</td>\n      <td>992</td>\n    </tr>\n  </tbody>\n</table>\n</div>"
     },
     "execution_count": 15,
     "metadata": {},
     "output_type": "execute_result"
    }
   ],
   "source": [
    "df = pd.read_csv(\"../stage3/outputs/All_Taxi_Trips.csv\")\n",
    "df['origin_point'] = df['origin_point'].apply(ast.literal_eval)\n",
    "df['destination_point'] = df['destination_point'].apply(ast.literal_eval)\n",
    "df['source_timestamp'] = pd.to_datetime(df['source_timestamp'])\n",
    "df['destination_timestamp'] = pd.to_datetime(df['destination_timestamp'])\n",
    "df['travel_time'] = df['destination_timestamp'] - df['source_timestamp']\n",
    "df['travel_time'] = df['travel_time'].apply(lambda x: x.seconds)\n",
    "df.head()"
   ],
   "metadata": {
    "collapsed": false,
    "pycharm": {
     "name": "#%%\n"
    }
   }
  },
  {
   "cell_type": "code",
   "execution_count": 16,
   "outputs": [],
   "source": [
    "test_data = pd.read_csv('../stage3/test_student.txt', sep=' ', header=None, index_col=0)"
   ],
   "metadata": {
    "collapsed": false,
    "pycharm": {
     "name": "#%%\n"
    }
   }
  },
  {
   "cell_type": "markdown",
   "source": [
    "# Create R-Tree"
   ],
   "metadata": {
    "collapsed": false,
    "pycharm": {
     "name": "#%% md\n"
    }
   }
  },
  {
   "cell_type": "code",
   "execution_count": 19,
   "outputs": [],
   "source": [
    "from pyproj import Transformer\n",
    "\n",
    "# R-Tree index\n",
    "idx = index.Index()\n",
    "\n",
    "# Create a transformer to project the latitude and longitude coordinates to the UTM zone 10N coordinate system\n",
    "transformer = Transformer.from_crs(4326, 32610)\n",
    "\n",
    "for i, row in df.iterrows():\n",
    "    sTime = row['source_timestamp']\n",
    "    dTime = row['destination_timestamp']\n",
    "\n",
    "    start_point = row['origin_point']\n",
    "    end_point = row['destination_point']\n",
    "\n",
    "    start_eta = ETA(start_point, start_time=sTime)\n",
    "    end_eta = ETA(end_point, end_time=dTime)\n",
    "\n",
    "    # Project the latitude and longitude coordinates\n",
    "    x1, y1 = transformer.transform(*start_point)\n",
    "    x2, y2 = transformer.transform(*end_point)\n",
    "\n",
    "    idx.insert(i, (x1, y1, x1, y1), start_eta)\n",
    "    idx.insert(i, (x2, y2, x2, y2), end_eta)"
   ],
   "metadata": {
    "collapsed": false,
    "pycharm": {
     "name": "#%%\n"
    }
   }
  },
  {
   "cell_type": "code",
   "execution_count": 20,
   "outputs": [
    {
     "data": {
      "text/plain": "246618"
     },
     "execution_count": 20,
     "metadata": {},
     "output_type": "execute_result"
    }
   ],
   "source": [
    "len(idx)"
   ],
   "metadata": {
    "collapsed": false,
    "pycharm": {
     "name": "#%%\n"
    }
   }
  },
  {
   "cell_type": "markdown",
   "source": [
    "# R-TREE Nearest Neighbor Algorithm"
   ],
   "metadata": {
    "collapsed": false,
    "pycharm": {
     "name": "#%% md\n"
    }
   }
  },
  {
   "cell_type": "code",
   "execution_count": 48,
   "outputs": [],
   "source": [
    "@dataclass\n",
    "class KNN:\n",
    "    k: int\n",
    "    start_point: tuple\n",
    "    end_point: tuple\n",
    "    seen_points: dict = None\n",
    "\n",
    "    def run(self) -> dict:\n",
    "        self.seen_points = {}\n",
    "\n",
    "        not_found = True\n",
    "        while not_found and (self.k < 1000):\n",
    "            # run for start point\n",
    "            nearest_points = idx.nearest(coordinates=self.start_point, num_results=self.k, objects=True)\n",
    "\n",
    "            for point in nearest_points:\n",
    "                obj = point.object\n",
    "                # if the point hasn't been seen, add it to the seen_points dict\n",
    "                if point.id not in self.seen_points:\n",
    "                    if obj.start_time is not None:\n",
    "                        self.seen_points[point.id] = {'start_time': obj.start_time}\n",
    "                    elif obj.end_time is not None:\n",
    "                        self.seen_points[point.id] = {'end_time': obj.end_time}\n",
    "                else:\n",
    "                    if (obj.start_time is not None) and ('start_time' not in self.seen_points[point.id]):\n",
    "                        self.seen_points[point.id]['start_time'] = obj.start_time\n",
    "                    elif (obj.end_time is not None) and ('end_time' not in self.seen_points[point.id]):\n",
    "                        self.seen_points[point.id]['end_time'] = obj.end_time\n",
    "\n",
    "            # run for end point\n",
    "            nearest_points = idx.nearest(coordinates=self.end_point, num_results=self.k, objects=True)\n",
    "\n",
    "            for point in nearest_points:\n",
    "                obj = point.object\n",
    "\n",
    "                if (obj.start_time is not None) and (point.id in self.seen_points):\n",
    "                    if 'start_time' not in self.seen_points[point.id]:\n",
    "                        self.seen_points[point.id]['start_time'] = obj.start_time\n",
    "                elif (obj.end_time is not None) and (point.id in self.seen_points):\n",
    "                    if 'end_time' not in self.seen_points[point.id]:\n",
    "                        self.seen_points[point.id]['end_time'] = obj.end_time\n",
    "\n",
    "            important_points = self.seen_points.copy()\n",
    "            for key, value in self.seen_points.items():\n",
    "                if len(value) == 1:\n",
    "                    del important_points[key]\n",
    "\n",
    "            if len(important_points) == 0:\n",
    "                self.k += 5\n",
    "            else:\n",
    "                not_found = False\n",
    "                return important_points\n"
   ],
   "metadata": {
    "collapsed": false,
    "pycharm": {
     "name": "#%%\n"
    }
   }
  },
  {
   "cell_type": "code",
   "execution_count": 49,
   "outputs": [],
   "source": [
    "from geopy.distance import great_circle\n",
    "\n",
    "def get_time_diff(time1, time2):\n",
    "    time1 = pd.to_datetime(time1)\n",
    "    time2 = pd.to_datetime(time2)\n",
    "    return abs(time2 - time1).seconds\n",
    "\n",
    "def get_dist(point1: tuple, point2: tuple) -> float:\n",
    "    return great_circle(point1, point2).meters\n",
    "\n",
    "def tie_breaker(test_point: tuple, candidate_ids: dict) -> tuple:\n",
    "    min_dist = 1000000\n",
    "    for id in candidate_ids:\n",
    "        row = df.loc[id]\n",
    "\n",
    "        start_train_point = row['origin_point']\n",
    "        end_train_point = row['destination_point']\n",
    "\n",
    "        start_test_point = test_point[0]\n",
    "        end_test_point = test_point[1]\n",
    "\n",
    "        start_dist = get_dist(start_train_point, start_test_point)\n",
    "        end_dist = get_dist(end_train_point, end_test_point)\n",
    "\n",
    "        dist = start_dist + end_dist\n",
    "        if dist < min_dist:\n",
    "            min_dist = dist\n",
    "            min_point = id\n",
    "\n",
    "    return min_point"
   ],
   "metadata": {
    "collapsed": false,
    "pycharm": {
     "name": "#%%\n"
    }
   }
  },
  {
   "cell_type": "code",
   "execution_count": 50,
   "outputs": [
    {
     "data": {
      "text/plain": "   travel_time\n0             \n0            0\n1            0\n2            0\n3            0\n4            0",
      "text/html": "<div>\n<style scoped>\n    .dataframe tbody tr th:only-of-type {\n        vertical-align: middle;\n    }\n\n    .dataframe tbody tr th {\n        vertical-align: top;\n    }\n\n    .dataframe thead th {\n        text-align: right;\n    }\n</style>\n<table border=\"1\" class=\"dataframe\">\n  <thead>\n    <tr style=\"text-align: right;\">\n      <th></th>\n      <th>travel_time</th>\n    </tr>\n    <tr>\n      <th>0</th>\n      <th></th>\n    </tr>\n  </thead>\n  <tbody>\n    <tr>\n      <th>0</th>\n      <td>0</td>\n    </tr>\n    <tr>\n      <th>1</th>\n      <td>0</td>\n    </tr>\n    <tr>\n      <th>2</th>\n      <td>0</td>\n    </tr>\n    <tr>\n      <th>3</th>\n      <td>0</td>\n    </tr>\n    <tr>\n      <th>4</th>\n      <td>0</td>\n    </tr>\n  </tbody>\n</table>\n</div>"
     },
     "execution_count": 50,
     "metadata": {},
     "output_type": "execute_result"
    }
   ],
   "source": [
    "test_data['travel_time'] = 0\n",
    "results = test_data.copy()[['travel_time']]\n",
    "results.head()\n"
   ],
   "metadata": {
    "collapsed": false,
    "pycharm": {
     "name": "#%%\n"
    }
   }
  },
  {
   "cell_type": "code",
   "execution_count": 51,
   "outputs": [],
   "source": [
    "# run knn algorithm\n",
    "for i, row in test_data.iterrows():\n",
    "    start_point = row.loc[2:3]\n",
    "    end_point = row.loc[5:6]\n",
    "    test_point = (start_point, end_point)\n",
    "    x1, y1 = transformer.transform(*start_point)\n",
    "    x2, y2 = transformer.transform(*end_point)\n",
    "\n",
    "    knn_obj = KNN(k=5, start_point=(x1, y1, x1, y1), end_point=(x2, y2, x2, y2))\n",
    "    found_points = knn_obj.run()\n",
    "    if len(found_points) == 1:\n",
    "        key, value = found_points.popitem()\n",
    "        results.at[i, 'travel_time'] = get_time_diff(value['start_time'], value['end_time'])\n",
    "    elif len(found_points) > 1:\n",
    "        value = found_points[tie_breaker(test_point, found_points)]\n",
    "        results.at[i, 'travel_time'] = get_time_diff(value['start_time'], value['end_time'])"
   ],
   "metadata": {
    "collapsed": false,
    "pycharm": {
     "name": "#%%\n"
    }
   }
  },
  {
   "cell_type": "code",
   "execution_count": 52,
   "outputs": [
    {
     "data": {
      "text/plain": "   travel_time\n0             \n0          267\n1         3067\n2          627\n3           77\n4           15",
      "text/html": "<div>\n<style scoped>\n    .dataframe tbody tr th:only-of-type {\n        vertical-align: middle;\n    }\n\n    .dataframe tbody tr th {\n        vertical-align: top;\n    }\n\n    .dataframe thead th {\n        text-align: right;\n    }\n</style>\n<table border=\"1\" class=\"dataframe\">\n  <thead>\n    <tr style=\"text-align: right;\">\n      <th></th>\n      <th>travel_time</th>\n    </tr>\n    <tr>\n      <th>0</th>\n      <th></th>\n    </tr>\n  </thead>\n  <tbody>\n    <tr>\n      <th>0</th>\n      <td>267</td>\n    </tr>\n    <tr>\n      <th>1</th>\n      <td>3067</td>\n    </tr>\n    <tr>\n      <th>2</th>\n      <td>627</td>\n    </tr>\n    <tr>\n      <th>3</th>\n      <td>77</td>\n    </tr>\n    <tr>\n      <th>4</th>\n      <td>15</td>\n    </tr>\n  </tbody>\n</table>\n</div>"
     },
     "execution_count": 52,
     "metadata": {},
     "output_type": "execute_result"
    }
   ],
   "source": [
    "results.head()"
   ],
   "metadata": {
    "collapsed": false,
    "pycharm": {
     "name": "#%%\n"
    }
   }
  },
  {
   "cell_type": "code",
   "execution_count": 53,
   "outputs": [
    {
     "data": {
      "text/plain": "      travel_time\n0                \n1896           11\n1897          332\n1898           60\n1899          122\n1900           50",
      "text/html": "<div>\n<style scoped>\n    .dataframe tbody tr th:only-of-type {\n        vertical-align: middle;\n    }\n\n    .dataframe tbody tr th {\n        vertical-align: top;\n    }\n\n    .dataframe thead th {\n        text-align: right;\n    }\n</style>\n<table border=\"1\" class=\"dataframe\">\n  <thead>\n    <tr style=\"text-align: right;\">\n      <th></th>\n      <th>travel_time</th>\n    </tr>\n    <tr>\n      <th>0</th>\n      <th></th>\n    </tr>\n  </thead>\n  <tbody>\n    <tr>\n      <th>1896</th>\n      <td>11</td>\n    </tr>\n    <tr>\n      <th>1897</th>\n      <td>332</td>\n    </tr>\n    <tr>\n      <th>1898</th>\n      <td>60</td>\n    </tr>\n    <tr>\n      <th>1899</th>\n      <td>122</td>\n    </tr>\n    <tr>\n      <th>1900</th>\n      <td>50</td>\n    </tr>\n  </tbody>\n</table>\n</div>"
     },
     "execution_count": 53,
     "metadata": {},
     "output_type": "execute_result"
    }
   ],
   "source": [
    "results.tail()"
   ],
   "metadata": {
    "collapsed": false,
    "pycharm": {
     "name": "#%%\n"
    }
   }
  },
  {
   "cell_type": "code",
   "execution_count": 54,
   "outputs": [],
   "source": [
    "results.to_csv('../outputs/eta_knn.csv', index=False)"
   ],
   "metadata": {
    "collapsed": false,
    "pycharm": {
     "name": "#%%\n"
    }
   }
  },
  {
   "cell_type": "code",
   "execution_count": null,
   "outputs": [],
   "source": [],
   "metadata": {
    "collapsed": false,
    "pycharm": {
     "name": "#%%\n"
    }
   }
  }
 ],
 "metadata": {
  "kernelspec": {
   "display_name": "Python 3",
   "language": "python",
   "name": "python3"
  },
  "language_info": {
   "codemirror_mode": {
    "name": "ipython",
    "version": 2
   },
   "file_extension": ".py",
   "mimetype": "text/x-python",
   "name": "python",
   "nbconvert_exporter": "python",
   "pygments_lexer": "ipython2",
   "version": "2.7.6"
  }
 },
 "nbformat": 4,
 "nbformat_minor": 0
}